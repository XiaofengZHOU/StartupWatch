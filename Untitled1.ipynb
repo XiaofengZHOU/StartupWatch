{
 "cells": [
  {
   "cell_type": "code",
   "execution_count": 7,
   "metadata": {
    "collapsed": true
   },
   "outputs": [],
   "source": [
    "from bs4 import BeautifulSoup\n",
    "from crawlers.tools import get_html_doc\n",
    "from dateutil.parser import parse\n",
    "import time\n",
    "import json\n",
    "import re\n",
    "import unidecode\n",
    "\n",
    "class CrawlerStartupBeat:\n",
    "    def __init__(self, number_of_pages_to_crawl):\n",
    "\n",
    "        self.articles = []\n",
    "        self.pages = []\n",
    "        self.name =\"StartupBeat\"\n",
    "        base_url = \"http://startupbeat.com/page/\"\n",
    "        for x in range(1, number_of_pages_to_crawl + 1):\n",
    "            self.pages.append(base_url + str(x))\n",
    "        \n",
    "        \n",
    "    def crawl(self):\n",
    "        pages_length = len(self.pages)\n",
    "        for idx, page in enumerate(self.pages):\n",
    "            links = []\n",
    "            html_doc = get_html_doc(page)\n",
    "            soup = BeautifulSoup(html_doc, 'html.parser')\n",
    "            blocks = soup.select(\"div#masonry article h3 a\")\n",
    "            for block in blocks:\n",
    "                links.append(block[\"href\"])\n",
    "             \n",
    "            #get aarticle of link     \n",
    "            for link in links:\n",
    "                html_doc = get_html_doc(link)\n",
    "                soup = BeautifulSoup(html_doc, 'html.parser')\n",
    "                content = \"\"\n",
    "                paragraphs = soup.select(\".post-content p\")\n",
    "                pattern = re.compile(r'\\W')\n",
    "                \n",
    "                lable = False\n",
    "                category = soup.select_one(\"div.post-date-by div.post-categories a\").getText()\n",
    "                if 'startup' in category.lower():\n",
    "                    lable = True\n",
    "                    content = content+category.lower()+'. '\n",
    "                \n",
    "                for index,para in enumerate(paragraphs):\n",
    "                    text = para.getText()\n",
    "                    if len(text)==0:\n",
    "                        continue   \n",
    "                    last_letter = text[-1]\n",
    "                    \n",
    "                    if lable== True:\n",
    "                        if index <=2:\n",
    "                            if pattern.match(last_letter) and last_letter!=' ':\n",
    "                                content = content+text+' '\n",
    "                            else:\n",
    "                                content = content+text+'. '\n",
    "                                \n",
    "                        if index >=3:\n",
    "                            if pattern.match(last_letter) and last_letter!='/':\n",
    "                                content = content+text+' '\n",
    "                                \n",
    "                    if lable == False:\n",
    "                        if pattern.match(last_letter) and last_letter!='/' :\n",
    "                                content = content+text+' '\n",
    "                        \n",
    "                content = unidecode.unidecode(content)\n",
    "                content = content.replace(':',' :')\n",
    "                title = soup.find(\"h1\").getText()\n",
    "                title = unidecode.unidecode(title)\n",
    "                date  = soup.find(\"meta\", property=\"article:published_time\")[\"content\"]\n",
    "                date  = int(parse(date).timestamp()) \n",
    "\n",
    "                article = {\n",
    "                        \"title\":title,\n",
    "                        \"content\":content,\n",
    "                        \"date\":date,\n",
    "                        \"url\":link,\n",
    "                        \"origin\":self.name\n",
    "                        }\n",
    "                self.articles.append(article)\n",
    "            print(\"StartupBeat crawling at \" + str(((idx + 1) / pages_length) * 100) + \"%\")\n",
    "    \n",
    "    def get_articles(self):\n",
    "        return self.articles\n",
    "                "
   ]
  },
  {
   "cell_type": "code",
   "execution_count": 8,
   "metadata": {},
   "outputs": [
    {
     "name": "stdout",
     "output_type": "stream",
     "text": [
      "StartupBeat crawling at 33.33333333333333%\n",
      "StartupBeat crawling at 66.66666666666666%\n",
      "StartupBeat crawling at 100.0%\n"
     ]
    }
   ],
   "source": [
    "Crawler= CrawlerStartupBeat(3)\n",
    "Crawler.crawl()\n",
    "articles = Crawler.get_articles()\n",
    "\n",
    "f = open('data/testStartupBeat.json','w')\n",
    "json.dump(articles,f,indent=2)\n",
    "f.close()"
   ]
  },
  {
   "cell_type": "code",
   "execution_count": null,
   "metadata": {
    "collapsed": true
   },
   "outputs": [],
   "source": []
  }
 ],
 "metadata": {
  "kernelspec": {
   "display_name": "Python 3",
   "language": "python",
   "name": "python3"
  },
  "language_info": {
   "codemirror_mode": {
    "name": "ipython",
    "version": 3
   },
   "file_extension": ".py",
   "mimetype": "text/x-python",
   "name": "python",
   "nbconvert_exporter": "python",
   "pygments_lexer": "ipython3",
   "version": "3.6.1"
  }
 },
 "nbformat": 4,
 "nbformat_minor": 2
}
