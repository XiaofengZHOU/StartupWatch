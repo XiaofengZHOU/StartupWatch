{
 "cells": [
  {
   "cell_type": "code",
   "execution_count": 2,
   "metadata": {
    "collapsed": true
   },
   "outputs": [],
   "source": [
    "from bs4 import BeautifulSoup\n",
    "from crawlers.tools import get_html_doc\n",
    "from dateutil.parser import parse\n",
    "import time\n",
    "import unidecode\n",
    "from selenium import webdriver\n",
    "from selenium.webdriver.common.desired_capabilities import DesiredCapabilities"
   ]
  },
  {
   "cell_type": "code",
   "execution_count": 2,
   "metadata": {},
   "outputs": [
    {
     "name": "stdout",
     "output_type": "stream",
     "text": [
      "['http://startupbeat.com/2017/05/microsoft-accelerator-startup-sensoro-secures-18-million-in-series-b-funding/', 'http://startupbeat.com/2017/05/startup-spotlight-philip-schweizer-of-saleswings/', 'http://startupbeat.com/2017/05/filefacets-appoints-mark-carter-as-regional-vice-president-sales/', 'http://startupbeat.com/2017/05/the-lightning-pitch-instasleep-natural-sleep-aids-for-all/', 'http://startupbeat.com/2017/05/nominet-trust-backs-eight-new-social-tech-projects-helping-transform-lives/', 'http://startupbeat.com/2017/05/the-lightning-pitch-papumba-the-animal-learning-app/', 'http://startupbeat.com/2017/04/the-lightning-pitch-meet-ranksense-its-better-than-the-name-suggests/', 'http://startupbeat.com/2017/04/wonder-legal-announces-launch-of-us-website/', 'http://startupbeat.com/2017/04/upramp-searches-for-companies-to-join-fiterator-a-tech-accelerator-for-cable-broadband-wireless-sectors/', 'http://startupbeat.com/2017/04/the-lightning-pitch-qubed-to-get-a-more-rounded-education/', 'http://startupbeat.com/2017/04/premier-payment-systems-and-impeccable-digital-merge-to-form-tidal-commerce/', 'http://startupbeat.com/2017/04/the-lightning-pitch-recreate-memory-helping-create-memories-where-photos-dont-exist/']\n"
     ]
    }
   ],
   "source": [
    "link = \"http://startupbeat.com/\"\n",
    "html_doc = get_html_doc(link)\n",
    "soup = BeautifulSoup(html_doc, 'html.parser')\n",
    "blocks = soup.select(\"div#masonry article h3 a\")\n",
    "links = []\n",
    "for block in blocks:\n",
    "    link = block[\"href\"]\n",
    "    links.append(link)\n",
    "print(links)\n",
    "\n"
   ]
  },
  {
   "cell_type": "code",
   "execution_count": 32,
   "metadata": {},
   "outputs": [
    {
     "name": "stdout",
     "output_type": "stream",
     "text": [
      "Company: Qubed\n",
      "Headquarters: New York\n",
      "Founding Team: Rob Kingyens, Ankit Dhir and Michael Godshall\n",
      "Why we like it: Because when someone answers that in their spare time they check out the latest news in the fashion world before heading back to slog through files all day, something sounds off. Filing and fashion aren’t on the same page, unless they’re one of those amazing people who get a buzz from organizing all day everyday.\n",
      "\n",
      "Money doesn’t control everything. Maybe just that fancy car, sophisticated bar and latest iPhone product. But believe it or not, millennials actually want an interesting job. If millennials don’t like their job, productivity will drop. If productivity drops, things won’t get done. If things aren’t done, businesses won’t make sales. If business don’t make sales, they fail. And now no one has a job and no one makes money.\n",
      "Qubed connects millennial to the right career options most suited to who they are. Qubed’s discovery programs inspire the next generation of talent to pursue a career path that aligns with their passions. These programs are formed from their partnership with globally recognised universities, industry experts and employers in fields such as sport, fashion, music, tech, design and media.\n",
      "Let’s be specific. Qubed has partnered with the faculty of Columbia to created a sports industry essentials online certificate, featuring lessons from sports industry professionals from places such as the National Football League, Nike, National Hockey League etc. \n",
      "Montreal launches first incubator in North America dedicated to tourism, culture and entertainment\n",
      "PermitZone democratizes process of attaining building permits in US\n",
      "Three perspectives on Canada’s thriving startup ecosystem\n",
      "Perhaps like the fashion-loving bored office worker, a career in fashion will align better with their passion. Even the world of rhyme agrees. Through Qubed’s partnership with Parsons School of Design they provide a fashion industry essentials online certificate. The program is 100 percent online, self-paced and open access to any student who wants to explore the possibilities in the fashion industry within their busy schedule. This fashion industry essential program has five available courses taught by more than 20 instructors from leaders in the fashion industry. These courses help students gain insights into the fashion industry and if they really are a fashion lover they can be prepared for a successful future in fashion. \n",
      "So before a millennial unenthusiastically applies for a new job in a business they could take down with them, it would be better to check in with personal passions and make sure they’re exactly where you want to be.\n",
      " \n",
      "Jacinta Spies\n"
     ]
    }
   ],
   "source": [
    "import re \n",
    "\n",
    "link = \"http://startupbeat.com/2017/04/the-lightning-pitch-qubed-to-get-a-more-rounded-education/\"\n",
    "html_doc = get_html_doc(link)\n",
    "soup = BeautifulSoup(html_doc, 'html.parser')\n",
    "content =\"\"\n",
    "paragraphs = soup.select(\".post-content p\")\n",
    "pattern = re.compile(r'\\W')\n",
    "lable =False\n",
    "\n",
    "for para in paragraphs:\n",
    "    text = para.getText()\n",
    "    last_letter = text[-1]  \n",
    "    print(text)\n",
    "    if 'startup beat'in text.lower():\n",
    "        lable=True\n",
    "        \n",
    "    if lable == True:\n",
    "        print(text)\n",
    "        if pattern.match(last_letter) and last_letter!='/' and last_letter !=' ':\n",
    "            print(text)\n"
   ]
  },
  {
   "cell_type": "code",
   "execution_count": null,
   "metadata": {
    "collapsed": true
   },
   "outputs": [],
   "source": []
  },
  {
   "cell_type": "code",
   "execution_count": null,
   "metadata": {
    "collapsed": true
   },
   "outputs": [],
   "source": []
  }
 ],
 "metadata": {
  "celltoolbar": "Raw Cell Format",
  "kernelspec": {
   "display_name": "Python 3",
   "language": "python",
   "name": "python3"
  },
  "language_info": {
   "codemirror_mode": {
    "name": "ipython",
    "version": 3
   },
   "file_extension": ".py",
   "mimetype": "text/x-python",
   "name": "python",
   "nbconvert_exporter": "python",
   "pygments_lexer": "ipython3",
   "version": "3.6.1"
  }
 },
 "nbformat": 4,
 "nbformat_minor": 2
}
