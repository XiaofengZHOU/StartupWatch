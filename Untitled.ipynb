{
 "cells": [
  {
   "cell_type": "code",
   "execution_count": 7,
   "metadata": {},
   "outputs": [
    {
     "name": "stdout",
     "output_type": "stream",
     "text": [
      "Entrepreneur crawling at 33.33333333333333%\n",
      "Entrepreneur crawling at 66.66666666666666%\n",
      "Entrepreneur crawling at 100.0%\n"
     ]
    }
   ],
   "source": [
    "from crawlers.entrepreneur import CrawlerEntrepreneur\n",
    "import json\n",
    "import time\n",
    "\n",
    "en = CrawlerEntrepreneur(3)\n",
    "en.crawl()\n",
    "articles = en.get_articles()\n",
    "\n",
    "f = open('data/testEN.json','w')\n",
    "json.dump(articles,f,indent=2)\n",
    "f.close()"
   ]
  },
  {
   "cell_type": "code",
   "execution_count": null,
   "metadata": {
    "collapsed": true
   },
   "outputs": [],
   "source": []
  }
 ],
 "metadata": {
  "kernelspec": {
   "display_name": "Python 3",
   "language": "python",
   "name": "python3"
  },
  "language_info": {
   "codemirror_mode": {
    "name": "ipython",
    "version": 3
   },
   "file_extension": ".py",
   "mimetype": "text/x-python",
   "name": "python",
   "nbconvert_exporter": "python",
   "pygments_lexer": "ipython3",
   "version": "3.6.1"
  }
 },
 "nbformat": 4,
 "nbformat_minor": 2
}
