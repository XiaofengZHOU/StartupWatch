{
 "cells": [
  {
   "cell_type": "code",
   "execution_count": 1,
   "metadata": {
    "collapsed": true
   },
   "outputs": [],
   "source": [
    "from bs4 import BeautifulSoup\n",
    "from crawlers.tools import get_html_doc\n",
    "from dateutil.parser import parse\n",
    "import time\n",
    "import unidecode\n",
    "from selenium import webdriver\n",
    "from selenium.webdriver.common.desired_capabilities import DesiredCapabilities"
   ]
  },
  {
   "cell_type": "code",
   "execution_count": 142,
   "metadata": {},
   "outputs": [
    {
     "name": "stdout",
     "output_type": "stream",
     "text": [
      "['http://ventureburn.com/2017/05/fincluders-startup-challenge-amman-winners-announced/', 'http://ventureburn.com/?post_type=post&p=118282', 'http://ventureburn.com/2017/05/seedstars-world-heads-south-africa/', 'http://ventureburn.com/2017/05/tackle-infrastructure-skills-challenges-boost-tech-sector-say-nigerian-experts/', 'http://ventureburn.com/2017/05/top-startup-events-south-africa-africa-know-week-08042017/', 'http://ventureburn.com/2017/05/zimbabwe-government-applications-25-million-fund/', 'http://ventureburn.com/2017/05/ccdi-back-seven-innovative-cape-projects-second-round-seed-fund/', 'http://ventureburn.com/2017/05/reserve-bank-looking-unblock-ecosystem-challenges-winde/', 'http://ventureburn.com/2017/05/gsma-announces-top-startups-ecosystem-accelerator-innovation-fund/', 'http://ventureburn.com/2017/05/world-economic-forum-announces-top-female-tech-entrepreneurs/', 'http://ventureburn.com/2017/05/chance-meeting-helped-sa-startup-getsmarter-secure-100m-sale/']\n"
     ]
    }
   ],
   "source": [
    "link = \"http://ventureburn.com/\"\n",
    "html_doc = get_html_doc(link)\n",
    "soup = BeautifulSoup(html_doc, 'html.parser')\n",
    "blocks = soup.select(\"ul.archive-list li div.archive-text h2 a\")\n",
    "links = []\n",
    "for block in blocks:\n",
    "    link = block[\"href\"]\n",
    "    links.append(link)\n",
    "print(links)\n",
    "\n"
   ]
  },
  {
   "cell_type": "code",
   "execution_count": 161,
   "metadata": {},
   "outputs": [
    {
     "name": "stdout",
     "output_type": "stream",
     "text": [
      "SA entrepreneur Stephen Larkin claims that investors could be in for “free cash” of US$20-billion if his exploration company, which uses a unique algorithm to pinpoint possible gas deposits, makes a find in Namibia’s Kalahari Desert. While he’s raised millions of dollars from investors and written off millions more in research costs through a number of state incentives, industry analysts remain cautious. Read more: Will South African trio’s algorithm be a boon for oil sector? His UK-registered company Africa New Energies, which is expected to list on the London Stock Exchange next year, has yet to discover a single barrel of oil. Larkin launched the company in 2012 with Brendon Raw and Shakes Motsilili. At a Startup Grind event at Workshop 17 in Cape Town last night, Ventureburn questioned Larkin on the concern some analysts have over the company’s claims it would find gas in the basin. He said since registering his company in 2012 a number of local Herero people have reported oil seeping out of 731 places across a million acres in the basin. However he stressed that while drilling was expected to start next year, the existence of any gas deposits in the Kalahari had not yet been proven. Despite this, he said the use of an algorithm — which combines satellite images, aircraft photos and other data to determine such things as the depth and pressure of any gas — can greatly increase the chances of a successful find, while keeping costs low. Based on its use in 100 basins and 6000 wells, the algorithm gave prospectors about a 70% chance of finding gas, he said. “I’m not saying we’ll get 70% (certainty)…  you’ll get to the 70% probability over a 10 well-drilling programme,” he said. “But the bizarre thing is because the expected value of what we’re talking about and we’re talking free cash of US$20 billion, they (investors) are prepared to say, ‘well if it doesn’t work we’re prepared to lose a certain amount’.” Those that have helped fund the exploration include 400 investors from 17 countries who have committed R40-million, after Larkin raised an initial R1-million from 30 former school mates. The company has also raised about 2.5 million pounds (US$3.2-million) in the UK, he added. He also revealed to Ventureburn that Chinese investors are expected to put in a further $500-million, which will form the company’s initial listing value. In addition to this, the company has also been able tap funding from South Africa’s Support Programme for Industrial Innovation (SPII) fund, which falls under the Department of Trade and Industry, while having utilised research and development (R&D) tax credits in the UK after registering the company there. Added to this the company has received support from the German government, a deal in which Larkin says the German government will cover three quarters of the company’s budgeted R&D spend but in which the company will be able to maintain ownership of its IP. He says the recent low oil price has driven interest by investors in the company’s algorithm. “What has amazed me is that we are starting to get bids where certain players are starting to get worried, because it’s cheaper and it’s better if it works. “And a couple of them have got to a stage where they are trying to secure the algorithm before we strike. Because if we do there will be such a bunfight over it.” However when questioned later by Ventureburn, Larkin admitted that there are other operators in existence that are using similar algorithms to prospect for oil. In response to an audience question on whether the company would use hydraulic fracturing to recover gas deposits, Larkin said he “loathed” fracking and added that his algorithm “will destroy the economic justification for fracking”. However when probed further by Ventureburn on whether fracking would be involved in recovering the gas, he agreed that while it would be deployed, the algorithm would however limit the number of test wells that would need to be drilled. Larkin said he was contacted in 2011 by the then Namibian foreign minister Utoni Nujoma to build a solar park. However after carrying out a pre-feasibility study Africa New Energies advised that solar would be financially unsustainable. It’s then, he says, that the company hit on the idea of prospecting for onshore gas to pay for the installation of solar. As a child Larkin, who is dyslexic, was told that he would need to go to a special school. But he said his scientist father would hear none of it. While at Marist Brothers College in Cape Town, a former headmaster of Bishops spotted his potential and offered him a chance to write a scholarship exam to enter the prestigious private school. The night before the final exam, his sister was beaten and thrown into prison by police who suspected her of being involved in radical left-wing politics at the time. “She was in prison when I wrote that exam and I just let rip with left-wing vitriolic that would have made Karl Marx wince.” Larkin was in luck because the regular marker, who was a conservative Afrikaner, was off work that day. “They desperately needed to find someone to mark the exams and they found this hippy guy from the UK and he read this paper and he thought, ‘wow this is alternative’ and despite my four percent for Latin I won a Bishops scholarship.” He recalls the time when his fellow room mate at his University of Cape Town residence, who was from one of the country’s former homelands, told him that what he was most looking forward to doing at the university was studying at night. “That day he basically made me work out what I wanted to do — I wanted to give everyone else who didn’t have electricity, electricity,” he said. I was there and I do not remember Stephen saying that he will be fracking, do you have video fooage of him saying? Ventureburn focuses on startup news and technology trends in emerging markets. More about us here More in Startup news, Startups \n"
     ]
    }
   ],
   "source": [
    "link = \"http://ventureburn.com/2017/04/stephen-larkin-africa-new-energies/\"\n",
    "html_doc = get_html_doc(link)\n",
    "soup = BeautifulSoup(html_doc, 'html.parser')\n",
    "content =\"\"\n",
    "paragraphs = soup.select(\"p\")\n",
    "for para in paragraphs:\n",
    "    text = para.getText()\n",
    "    content = content+text+' '\n",
    "print(content)\n"
   ]
  },
  {
   "cell_type": "code",
   "execution_count": 152,
   "metadata": {
    "collapsed": true
   },
   "outputs": [],
   "source": [
    "from bs4 import BeautifulSoup\n",
    "from crawlers.tools import get_html_doc\n",
    "from dateutil.parser import parse\n",
    "import time\n",
    "import unidecode\n",
    "\n",
    "\n",
    "class CrawlerStartupBeat:\n",
    "    def __init__(self, number_of_pages_to_crawl):\n",
    "\n",
    "        self.articles = []\n",
    "        self.pages = []\n",
    "        self.name =\"VentureBurn\"\n",
    "        base_url = \"http://ventureburn.com/page/\"\n",
    "        for x in range(1, number_of_pages_to_crawl + 1):\n",
    "            self.pages.append(base_url + str(x))\n",
    "        \n",
    "        \n",
    "    def crawl(self):\n",
    "        pages_length = len(self.pages)\n",
    "        for idx, page in enumerate(self.pages):\n",
    "            links = []\n",
    "            html_doc = get_html_doc(page)\n",
    "            soup = BeautifulSoup(html_doc, 'html.parser')\n",
    "            blocks = soup.select(\"ul.archive-list li div.archive-text h2 a\")\n",
    "            for block in blocks:\n",
    "                links.append(block[\"href\"])\n",
    "\n",
    "            for link in links:\n",
    "                html_doc = get_html_doc(link)\n",
    "                soup = BeautifulSoup(html_doc, 'html.parser')\n",
    "                paragraphs = soup.select(\"div#home-main p\")\n",
    "                content = \"\"\n",
    "                \n",
    "                for para in paragraphs:\n",
    "                    text = para.getText()\n",
    "                    content = content+text+' '\n",
    "                    content = unidecode.unidecode(content)\n",
    "                            \n",
    "                    \n",
    "                title = soup.select_one(\"div.story-headline h1\").getText()\n",
    "                title = unidecode.unidecode(title)\n",
    "                date  = soup.find(\"meta\",  property=\"article:published_time\")[\"content\"]\n",
    "                date  = int(parse(date).timestamp()) \n",
    "\n",
    "                article = {\n",
    "                    \"title\":title,\n",
    "                    \"content\":content,\n",
    "                    \"date\":date,\n",
    "                    \"url\":link,\n",
    "                    \"origin\":\"VentureBurn\"\n",
    "                }\n",
    "                self.articles.append(article)\n",
    "            \n",
    "            print(\"VentureBurn crawling at \" + str(((idx + 1) / pages_length) * 100) + \"%\")\n",
    "            \n",
    "    def get_articles(self):\n",
    "        return self.articles\n",
    "            \n",
    "                    \n",
    "                \n",
    "             \n",
    "            \n",
    "                \n",
    "                \n",
    "            \n",
    "            \n",
    "        \n",
    "        \n",
    "        \n",
    "    \n",
    "    "
   ]
  },
  {
   "cell_type": "code",
   "execution_count": 153,
   "metadata": {},
   "outputs": [
    {
     "name": "stdout",
     "output_type": "stream",
     "text": [
      "VentureBurn crawling at 33.33333333333333%\n",
      "VentureBurn crawling at 66.66666666666666%\n",
      "VentureBurn crawling at 100.0%\n"
     ]
    }
   ],
   "source": [
    "import json\n",
    "import time\n",
    "\n",
    "Crawler= CrawlerStartupBeat(3)\n",
    "Crawler.crawl()\n",
    "articles = Crawler.get_articles()\n",
    "\n",
    "f = open('data/testVentureBeat.json','w')\n",
    "json.dump(articles,f,indent=2)\n",
    "f.close()"
   ]
  },
  {
   "cell_type": "code",
   "execution_count": null,
   "metadata": {
    "collapsed": true
   },
   "outputs": [],
   "source": []
  }
 ],
 "metadata": {
  "kernelspec": {
   "display_name": "Python 3",
   "language": "python",
   "name": "python3"
  },
  "language_info": {
   "codemirror_mode": {
    "name": "ipython",
    "version": 3
   },
   "file_extension": ".py",
   "mimetype": "text/x-python",
   "name": "python",
   "nbconvert_exporter": "python",
   "pygments_lexer": "ipython3",
   "version": "3.6.1"
  }
 },
 "nbformat": 4,
 "nbformat_minor": 2
}
