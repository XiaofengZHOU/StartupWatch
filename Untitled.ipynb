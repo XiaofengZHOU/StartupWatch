{
 "cells": [
  {
   "cell_type": "code",
   "execution_count": 1,
   "metadata": {
    "collapsed": true
   },
   "outputs": [],
   "source": [
    "from bs4 import BeautifulSoup\n",
    "from crawlers.tools import get_html_doc\n",
    "from dateutil.parser import parse\n",
    "import time\n",
    "import unidecode\n",
    "from selenium import webdriver\n",
    "from selenium.webdriver.common.desired_capabilities import DesiredCapabilities"
   ]
  },
  {
   "cell_type": "code",
   "execution_count": 35,
   "metadata": {},
   "outputs": [
    {
     "name": "stdout",
     "output_type": "stream",
     "text": [
      "['http://tech.co/take-trip-tech-valhalla-startup-graveyard-2017-05', 'http://tech.co/idealseat-baseball-fans-catch-foul-balls-2017-05', 'http://tech.co/techstars-xprize-worlds-challenges-2017-05', 'http://tech.co/boston-great-city-startups-2017-05', 'http://tech.co/9-ways-to-stay-productive-in-a-shared-office-space-2017-05', 'http://tech.co/social-wins-columbus-pitch-competition-2017-05', 'http://tech.co/oneplus-3t-smartphone-bang-buck-review-2017-05', 'http://tech.co/vatican-home-startup-accelerator-2017-05', 'http://tech.co/taylor-freeman-uploadvr-passion-2017-05', 'http://tech.co/inclusion-startup-competitions-2017-05', 'http://tech.co/banks-work-harmony-fintech-startups-2017-05', 'http://tech.co/security-essential-smart-home-2017-05', 'http://tech.co/modanisa-200-billion-muslim-fashion-2017-05', 'http://tech.co/boost-conversion-rate-startup-2017-05']\n"
     ]
    }
   ],
   "source": [
    "link = \"http://tech.co/page/1\"\n",
    "html_doc = get_html_doc(link)\n",
    "links = []\n",
    "soup = BeautifulSoup(html_doc, 'html.parser')\n",
    "blocks = soup.select(\".hero-article\")  # article_selector\n",
    "for block in blocks:\n",
    "    aList = block.select('a')\n",
    "    for a in aList:\n",
    "        if len(a.select('div')) !=0:\n",
    "            link = a[\"href\"]\n",
    "            links.append(link)\n",
    "print(links)\n",
    "\n"
   ]
  },
  {
   "cell_type": "code",
   "execution_count": 32,
   "metadata": {},
   "outputs": [
    {
     "name": "stdout",
     "output_type": "stream",
     "text": [
      "Company: Qubed\n",
      "Headquarters: New York\n",
      "Founding Team: Rob Kingyens, Ankit Dhir and Michael Godshall\n",
      "Why we like it: Because when someone answers that in their spare time they check out the latest news in the fashion world before heading back to slog through files all day, something sounds off. Filing and fashion aren’t on the same page, unless they’re one of those amazing people who get a buzz from organizing all day everyday.\n",
      "\n",
      "Money doesn’t control everything. Maybe just that fancy car, sophisticated bar and latest iPhone product. But believe it or not, millennials actually want an interesting job. If millennials don’t like their job, productivity will drop. If productivity drops, things won’t get done. If things aren’t done, businesses won’t make sales. If business don’t make sales, they fail. And now no one has a job and no one makes money.\n",
      "Qubed connects millennial to the right career options most suited to who they are. Qubed’s discovery programs inspire the next generation of talent to pursue a career path that aligns with their passions. These programs are formed from their partnership with globally recognised universities, industry experts and employers in fields such as sport, fashion, music, tech, design and media.\n",
      "Let’s be specific. Qubed has partnered with the faculty of Columbia to created a sports industry essentials online certificate, featuring lessons from sports industry professionals from places such as the National Football League, Nike, National Hockey League etc. \n",
      "Montreal launches first incubator in North America dedicated to tourism, culture and entertainment\n",
      "PermitZone democratizes process of attaining building permits in US\n",
      "Three perspectives on Canada’s thriving startup ecosystem\n",
      "Perhaps like the fashion-loving bored office worker, a career in fashion will align better with their passion. Even the world of rhyme agrees. Through Qubed’s partnership with Parsons School of Design they provide a fashion industry essentials online certificate. The program is 100 percent online, self-paced and open access to any student who wants to explore the possibilities in the fashion industry within their busy schedule. This fashion industry essential program has five available courses taught by more than 20 instructors from leaders in the fashion industry. These courses help students gain insights into the fashion industry and if they really are a fashion lover they can be prepared for a successful future in fashion. \n",
      "So before a millennial unenthusiastically applies for a new job in a business they could take down with them, it would be better to check in with personal passions and make sure they’re exactly where you want to be.\n",
      " \n",
      "Jacinta Spies\n"
     ]
    }
   ],
   "source": [
    "import re \n",
    "\n",
    "link = \"http://www.techinsider.io/the-28-coolest-tech-companies-startups-in-berlin-2017-3\"\n",
    "html_doc = get_html_doc(link)\n",
    "soup = BeautifulSoup(html_doc, 'html.parser')\n",
    "content =\"\"\n",
    "paragraphs = soup.select(\".post-content p\")\n",
    "\n",
    "\n",
    "\n"
   ]
  },
  {
   "cell_type": "code",
   "execution_count": null,
   "metadata": {
    "collapsed": true
   },
   "outputs": [],
   "source": []
  },
  {
   "cell_type": "code",
   "execution_count": null,
   "metadata": {
    "collapsed": true
   },
   "outputs": [],
   "source": []
  }
 ],
 "metadata": {
  "celltoolbar": "Raw Cell Format",
  "kernelspec": {
   "display_name": "Python 3",
   "language": "python",
   "name": "python3"
  },
  "language_info": {
   "codemirror_mode": {
    "name": "ipython",
    "version": 3
   },
   "file_extension": ".py",
   "mimetype": "text/x-python",
   "name": "python",
   "nbconvert_exporter": "python",
   "pygments_lexer": "ipython3",
   "version": "3.6.1"
  }
 },
 "nbformat": 4,
 "nbformat_minor": 2
}
