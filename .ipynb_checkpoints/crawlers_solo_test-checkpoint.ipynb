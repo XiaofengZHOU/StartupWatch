{
 "cells": [
  {
   "cell_type": "code",
   "execution_count": 1,
   "metadata": {},
   "outputs": [
    {
     "name": "stdout",
     "output_type": "stream",
     "text": [
      "Entrepreneur crawling at 20.0%\n",
      "Entrepreneur crawling at 40.0%\n",
      "Entrepreneur crawling at 60.0%\n",
      "Entrepreneur crawling at 80.0%\n",
      "Entrepreneur crawling at 100.0%\n"
     ]
    }
   ],
   "source": [
    "from crawlers.entrepreneur import CrawlerEntrepreneur\n",
    "import json\n",
    "import time\n",
    "\n",
    "en = CrawlerEntrepreneur(5)\n",
    "en.crawl()\n",
    "articles = en.get_articles()\n",
    "\n",
    "f = open('data/testEN.json','w')\n",
    "json.dump(articles,f,indent=2)\n",
    "f.close()"
   ]
  },
  {
   "cell_type": "code",
   "execution_count": 2,
   "metadata": {},
   "outputs": [
    {
     "name": "stdout",
     "output_type": "stream",
     "text": [
      "eu startups crawling at 25.0%\n",
      "eu startups crawling at 50.0%\n",
      "eu startups crawling at 75.0%\n",
      "eu startups crawling at 100.0%\n"
     ]
    }
   ],
   "source": [
    "from crawlers.eustartups import CrawlerEUStartups\n",
    "import json\n",
    "import time\n",
    "\n",
    "eu = CrawlerEUStartups(4)\n",
    "eu.crawl()\n",
    "articles = eu.get_articles()\n",
    "\n",
    "f = open('data/testEU.json','w')\n",
    "json.dump(articles,f,indent=2)\n",
    "f.close()\n"
   ]
  },
  {
   "cell_type": "code",
   "execution_count": 1,
   "metadata": {
    "scrolled": true
   },
   "outputs": [
    {
     "name": "stdout",
     "output_type": "stream",
     "text": [
      "Geekwire crawling at 50.0%\n",
      "Geekwire crawling at 100.0%\n"
     ]
    }
   ],
   "source": [
    "from crawlers.geekwire import CrawlerGeekwire\n",
    "import json\n",
    "import time\n",
    "\n",
    "ge = CrawlerGeekwire(2)\n",
    "ge.crawl()\n",
    "articles = ge.get_articles()\n",
    "\n",
    "f = open('data/testGE.json','w')\n",
    "json.dump(articles,f,indent=2)\n",
    "f.close()\n"
   ]
  },
  {
   "cell_type": "code",
   "execution_count": 4,
   "metadata": {},
   "outputs": [],
   "source": [
    "from crawlers.mashable import CrawlerMashable\n",
    "import json\n",
    "import time\n",
    "\n",
    "ma = CrawlerMashable(2)\n",
    "ma.crawl()\n",
    "articles = ma.get_articles()\n",
    "\n",
    "f = open('data/testMA.json','w')\n",
    "json.dump(articles,f,indent=2)\n",
    "f.close()"
   ]
  },
  {
   "cell_type": "code",
   "execution_count": 1,
   "metadata": {},
   "outputs": [
    {
     "name": "stdout",
     "output_type": "stream",
     "text": [
      "robot_report crawling at 50.0%\n",
      "robot_report crawling at 100.0%\n"
     ]
    }
   ],
   "source": [
    "from crawlers.robot_report import CrawlerRobotReport\n",
    "import json\n",
    "import time\n",
    "\n",
    "Crawler= CrawlerRobotReport(2)\n",
    "Crawler.crawl()\n",
    "articles = Crawler.get_articles()\n",
    "\n",
    "f = open('data/testRR.json','w')\n",
    "json.dump(articles,f,indent=2)\n",
    "f.close()"
   ]
  },
  {
   "cell_type": "code",
   "execution_count": null,
   "metadata": {
    "collapsed": true
   },
   "outputs": [],
   "source": []
  }
 ],
 "metadata": {
  "kernelspec": {
   "display_name": "Python 3",
   "language": "python",
   "name": "python3"
  },
  "language_info": {
   "codemirror_mode": {
    "name": "ipython",
    "version": 3
   },
   "file_extension": ".py",
   "mimetype": "text/x-python",
   "name": "python",
   "nbconvert_exporter": "python",
   "pygments_lexer": "ipython3",
   "version": "3.6.1"
  }
 },
 "nbformat": 4,
 "nbformat_minor": 2
}
