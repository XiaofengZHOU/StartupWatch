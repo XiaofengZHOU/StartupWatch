{
 "cells": [
  {
   "cell_type": "code",
   "execution_count": 1,
   "metadata": {
    "collapsed": true
   },
   "outputs": [],
   "source": [
    "import nltk\n",
    "import json\n",
    "#nltk.help.upenn_tagset()\n",
    "import json\n",
    "f=open('data/data.json','r')\n",
    "articles = json.load(f)    \n",
    "f.close()\n",
    "\n",
    "    \n",
    "article = articles[\"TechWorld\"][3]\n",
    "content = article[\"content\"]\n",
    "\n"
   ]
  },
  {
   "cell_type": "code",
   "execution_count": 28,
   "metadata": {
    "collapsed": true
   },
   "outputs": [],
   "source": [
    "content = \"\"\"\n",
    "Echobox is building AI for the publishing industry, and claims to have developed \\\"the world's first artificial intelligence that understands the meaning of content\\\". Founder Antoine Amann is a Cambridge graduate who worked in publishing with the Financial Times and developed Echobox while at Entrepreneur First in 2013.  Amann wrote in a blog post that Echobox has \\\"developed an AI platform that takes a large quantity of variables into account and analyses them in real time to determine optimum post performance\\\". Echobox social is a predictive tool which optimises content for social media, which the startup claims to double referrals from Facebook and Twitter, without having to do your own analytics, A/B testing or content curation. Basically: RIP social media editors. It has worked with the likes of Vice and The Telegraph in the UK media. Echobox raised $3.4 million (PS2.7 million) Series A funding round in July led by Mangrove Capital Partners. \n",
    "\"\"\""
   ]
  },
  {
   "cell_type": "code",
   "execution_count": 29,
   "metadata": {},
   "outputs": [
    {
     "name": "stdout",
     "output_type": "stream",
     "text": [
      "Tree('S', [Tree('GPE', [('Echobox', 'NNP')]), ('is', 'VBZ'), ('building', 'VBG'), ('AI', 'NNP'), ('for', 'IN'), ('the', 'DT'), ('publishing', 'NN'), ('industry', 'NN'), (',', ','), ('and', 'CC'), ('claims', 'NNS'), ('to', 'TO'), ('have', 'VB'), ('developed', 'VBN'), ('``', '``'), ('the', 'DT'), ('world', 'NN'), (\"'s\", 'POS'), ('first', 'JJ'), ('artificial', 'JJ'), ('intelligence', 'NN'), ('that', 'WDT'), ('understands', 'VBZ'), ('the', 'DT'), ('meaning', 'NN'), ('of', 'IN'), ('content', 'NN'), (\"''\", \"''\"), ('.', '.'), Tree('PERSON', [('Founder', 'NNP'), ('Antoine', 'NNP'), ('Amann', 'NNP')]), ('is', 'VBZ'), ('a', 'DT'), ('Cambridge', 'NNP'), ('graduate', 'NN'), ('who', 'WP'), ('worked', 'VBD'), ('in', 'IN'), ('publishing', 'VBG'), ('with', 'IN'), ('the', 'DT'), Tree('ORGANIZATION', [('Financial', 'NNP'), ('Times', 'NNPS')]), ('and', 'CC'), ('developed', 'VBD'), Tree('PERSON', [('Echobox', 'NNP')]), ('while', 'IN'), ('at', 'IN'), Tree('FACILITY', [('Entrepreneur', 'NNP'), ('First', 'NNP')]), ('in', 'IN'), ('2013', 'CD'), ('.', '.'), Tree('PERSON', [('Amann', 'NNP')]), ('wrote', 'VBD'), ('in', 'IN'), ('a', 'DT'), ('blog', 'NN'), ('post', 'NN'), ('that', 'WDT'), Tree('PERSON', [('Echobox', 'NNP')]), ('has', 'VBZ'), ('``', '``'), ('developed', 'VBD'), ('an', 'DT'), ('AI', 'NNP'), ('platform', 'NN'), ('that', 'WDT'), ('takes', 'VBZ'), ('a', 'DT'), ('large', 'JJ'), ('quantity', 'NN'), ('of', 'IN'), ('variables', 'NNS'), ('into', 'IN'), ('account', 'NN'), ('and', 'CC'), ('analyses', 'VBZ'), ('them', 'PRP'), ('in', 'IN'), ('real', 'JJ'), ('time', 'NN'), ('to', 'TO'), ('determine', 'VB'), ('optimum', 'JJ'), ('post', 'NN'), ('performance', 'NN'), (\"''\", \"''\"), ('.', '.'), Tree('PERSON', [('Echobox', 'NNP')]), ('social', 'JJ'), ('is', 'VBZ'), ('a', 'DT'), ('predictive', 'JJ'), ('tool', 'NN'), ('which', 'WDT'), ('optimises', 'VBZ'), ('content', 'NN'), ('for', 'IN'), ('social', 'JJ'), ('media', 'NNS'), (',', ','), ('which', 'WDT'), ('the', 'DT'), ('startup', 'NN'), ('claims', 'VBZ'), ('to', 'TO'), ('double', 'JJ'), ('referrals', 'NNS'), ('from', 'IN'), Tree('GPE', [('Facebook', 'NNP')]), ('and', 'CC'), Tree('PERSON', [('Twitter', 'NNP')]), (',', ','), ('without', 'IN'), ('having', 'VBG'), ('to', 'TO'), ('do', 'VB'), ('your', 'PRP$'), ('own', 'JJ'), ('analytics', 'NNS'), (',', ','), ('A/B', 'NNP'), ('testing', 'VBG'), ('or', 'CC'), ('content', 'JJ'), ('curation', 'NN'), ('.', '.'), ('Basically', 'RB'), (':', ':'), ('RIP', 'NNP'), ('social', 'JJ'), ('media', 'NNS'), ('editors', 'NNS'), ('.', '.'), ('It', 'PRP'), ('has', 'VBZ'), ('worked', 'VBN'), ('with', 'IN'), ('the', 'DT'), ('likes', 'NNS'), ('of', 'IN'), ('Vice', 'NNP'), ('and', 'CC'), ('The', 'DT'), Tree('ORGANIZATION', [('Telegraph', 'NNP')]), ('in', 'IN'), ('the', 'DT'), Tree('ORGANIZATION', [('UK', 'NNP')]), ('media', 'NNS'), ('.', '.'), Tree('PERSON', [('Echobox', 'NNP')]), ('raised', 'VBD'), ('$', '$'), ('3.4', 'CD'), ('million', 'CD'), ('(', '('), ('PS2.7', 'NNP'), ('million', 'CD'), (')', ')'), ('Series', 'VBZ'), ('A', 'NNP'), ('funding', 'NN'), ('round', 'NN'), ('in', 'IN'), ('July', 'NNP'), ('led', 'VBN'), ('by', 'IN'), Tree('PERSON', [('Mangrove', 'NNP'), ('Capital', 'NNP'), ('Partners', 'NNP')]), ('.', '.')])\n"
     ]
    }
   ],
   "source": [
    "sentences =  nltk.sent_tokenize(content)\n",
    "tokens = nltk.word_tokenize(content)\n",
    "pos = nltk.pos_tag(tokens)\n",
    "entities = nltk.ne_chunk(pos)\n",
    "print (entities.__repr__())"
   ]
  },
  {
   "cell_type": "code",
   "execution_count": 1,
   "metadata": {},
   "outputs": [
    {
     "data": {
      "text/plain": [
       "sys.version_info(major=3, minor=6, micro=1, releaselevel='final', serial=0)"
      ]
     },
     "execution_count": 1,
     "metadata": {},
     "output_type": "execute_result"
    }
   ],
   "source": [
    "import sys\n",
    "sys.version\n",
    "sys.version_info"
   ]
  },
  {
   "cell_type": "code",
   "execution_count": null,
   "metadata": {
    "collapsed": true
   },
   "outputs": [],
   "source": []
  }
 ],
 "metadata": {
  "kernelspec": {
   "display_name": "Python 3",
   "language": "python",
   "name": "python3"
  },
  "language_info": {
   "codemirror_mode": {
    "name": "ipython",
    "version": 3
   },
   "file_extension": ".py",
   "mimetype": "text/x-python",
   "name": "python",
   "nbconvert_exporter": "python",
   "pygments_lexer": "ipython3",
   "version": "3.6.1"
  }
 },
 "nbformat": 4,
 "nbformat_minor": 2
}
