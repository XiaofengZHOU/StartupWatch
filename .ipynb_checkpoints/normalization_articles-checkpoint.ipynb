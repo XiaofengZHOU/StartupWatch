{
 "cells": [
  {
   "cell_type": "code",
   "execution_count": null,
   "metadata": {
    "collapsed": true
   },
   "outputs": [],
   "source": [
    "import nltk\n",
    "import re\n",
    "import json\n",
    "\n",
    "words_list = []\n",
    "f = open(\"data/data.json\",\"r\")\n",
    "sites = json.load(f)\n",
    "f.close()\n",
    "\n",
    "grammar = r\"\"\"\n",
    "  Company:{<NNP>+}    # chunk determiner/possessive, adjectives and noun\n",
    "\"\"\"\n",
    "cp = nltk.RegexpParser(grammar)\n",
    "pattern = re.compile(r'\\W')\n",
    "\n",
    "for key in sites.keys():\n",
    "    articles = sites[key]\n",
    "    for article in articles:\n",
    "        content = article[\"content\"]\n",
    "        \n",
    "        sentences = nltk.sent_tokenize(content)\n",
    "        for sentence in sentences:\n",
    "            tokens = nltk.word_tokenize(sentence)\n",
    "            pos = nltk.pos_tag(tokens)\n",
    "            parsers = cp.parse(pos)\n",
    "            \n",
    "            for par in parsers:\n",
    "                if type(par) == nltk.tree.Tree:\n",
    "                    string = \"\"\n",
    "                    for idx,leave in  enumerate(par):\n",
    "                        num = int(idx>0)\n",
    "                        string = string+' '*num + leave[0]\n",
    "                    words_list.append(string)\n",
    "                    \n",
    "                else:\n",
    "                    if not pattern.match(par[0]):\n",
    "                        words_list.append(par[0].lower())\n",
    "\n",
    "f = open('text.json','w')\n",
    "json.dump(words_list, f ,indent = 2)\n",
    "f.close()"
   ]
  },
  {
   "cell_type": "code",
   "execution_count": null,
   "metadata": {
    "collapsed": true
   },
   "outputs": [],
   "source": [
    "import nltk\n",
    "import re\n",
    "import json\n",
    "\n",
    "words_list = []\n",
    "f = open(\"data/data.json\",\"r\")\n",
    "sites = json.load(f)\n",
    "f.close()\n",
    "\n",
    "grammar = r\"\"\"\n",
    "  Company:{<NNP>+}    # chunk determiner/possessive, adjectives and noun\n",
    "\"\"\"\n",
    "cp = nltk.RegexpParser(grammar)\n",
    "pattern = re.compile(r'\\W')\n",
    "\n",
    "content = sites['Geekwire'][0][\"content\"]\n",
    "sentences = nltk.sent_tokenize(content)\n",
    "for sentence in sentences:\n",
    "    tokens = nltk.word_tokenize(sentence)\n",
    "    pos = nltk.pos_tag(tokens)\n",
    "    parsers = cp.parse(pos)\n",
    "    pattern = re.compile(r'\\W')\n",
    "    for par in parsers:\n",
    "        if type(par) == nltk.tree.Tree:\n",
    "            string = \"\"\n",
    "            for idx,leave in  enumerate(par):\n",
    "                num = int(idx>0)\n",
    "                string = string+' '*num + leave[0]\n",
    "            words_list.append(string)\n",
    "        else:\n",
    "            if not pattern.match(par[0]):\n",
    "                words_list.append(par[0].lower())"
   ]
  }
 ],
 "metadata": {
  "kernelspec": {
   "display_name": "Python 3",
   "language": "python",
   "name": "python3"
  },
  "language_info": {
   "codemirror_mode": {
    "name": "ipython",
    "version": 3
   },
   "file_extension": ".py",
   "mimetype": "text/x-python",
   "name": "python",
   "nbconvert_exporter": "python",
   "pygments_lexer": "ipython3",
   "version": "3.5.3"
  }
 },
 "nbformat": 4,
 "nbformat_minor": 2
}
