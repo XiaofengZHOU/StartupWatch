{
 "cells": [
  {
   "cell_type": "code",
   "execution_count": 10,
   "metadata": {
    "collapsed": true
   },
   "outputs": [],
   "source": [
    "from bs4 import BeautifulSoup\n",
    "from crawlers.tools import get_html_doc\n",
    "from dateutil.parser import parse\n",
    "import time\n",
    "\n",
    "import unidecode\n",
    "\n",
    "class CrawlerTechCo:\n",
    "    def __init__(self, number_of_pages_to_crawl, silent=False):\n",
    "        self.pages = []\n",
    "        self.articles = []\n",
    "        self.silent = silent\n",
    "        self.name = \"TechCo\"\n",
    "        base_url = \"http://tech.co/page/\"\n",
    "        for x in range(1, number_of_pages_to_crawl + 1):\n",
    "            self.pages.append(base_url + str(x))\n",
    "\n",
    "    def crawl(self):\n",
    "        pages_length = len(self.pages)\n",
    "        for idx, page in enumerate(self.pages):\n",
    "            links = []\n",
    "\n",
    "            try:\n",
    "                html_doc = get_html_doc(page)\n",
    "                if html_doc is None:\n",
    "                    print(\"Failure in getting HTML doc\")\n",
    "                    return\n",
    "                soup = BeautifulSoup(html_doc, 'html.parser')\n",
    "                blocks = soup.select(\".hero-article\")  # article_selector\n",
    "                for block in blocks:\n",
    "                    aList = block.select('a')\n",
    "                    for a in aList:\n",
    "                        if len(a.select('div')) !=0:\n",
    "                            link = a[\"href\"]\n",
    "                            links.append(link)\n",
    "\n",
    "                for link in links:\n",
    "                    html_doc = get_html_doc(link)\n",
    "                    time.sleep(0.3)\n",
    "                    soup = BeautifulSoup(html_doc, 'html.parser')\n",
    "\n",
    "                    content = \"\"\n",
    "                    paragraphs = soup.select(\".content-wrap .dropcap p\")  # container-selector + text_selector\n",
    "                    for paragraph in paragraphs:\n",
    "                        try:\n",
    "                            content = content + paragraph.getText()+ ' '\n",
    "                        except AttributeError:\n",
    "                            pass\n",
    "                    content = unidecode.unidecode(content)\n",
    "                    try:\n",
    "                        header = soup.select_one(\".datetime h2 span\")\n",
    "                        date = header.text\n",
    "                        date = int(parse(date).timestamp())\n",
    "                    except TypeError:\n",
    "                        date = str(0)\n",
    "                    except AttributeError:\n",
    "                        date = str(0)\n",
    "\n",
    "                    try:\n",
    "                        title = soup.select_one(\"title\").getText()\n",
    "                        title = unidecode.unidecode(title)\n",
    "                    except:\n",
    "                        continue\n",
    "\n",
    "                    article = {\n",
    "                        \"title\": title,\n",
    "                        \"content\": content,\n",
    "                        \"date\": date,\n",
    "                        \"url\": link,\n",
    "                        \"origin\": \"tech_co\"\n",
    "                    }\n",
    "\n",
    "                \n",
    "            except ValueError as e:\n",
    "                print(\"Impossible de crawler Tech.co : Erreur \"+str(e))\n",
    "                return\n",
    "            self.log(\"Tech.co crawling at \" + str(((idx + 1) / pages_length) * 100) + \"%\")\n",
    "\n",
    "    def get_articles(self):\n",
    "        return self.articles\n",
    "\n",
    "    def log(self, message):\n",
    "        if not self.silent:\n",
    "            print(message)\n"
   ]
  },
  {
   "cell_type": "code",
   "execution_count": 9,
   "metadata": {},
   "outputs": [
    {
     "name": "stdout",
     "output_type": "stream",
     "text": [
      "[]\n",
      "Tech.co crawling at 50.0%\n",
      "[]\n",
      "Tech.co crawling at 100.0%\n"
     ]
    }
   ],
   "source": [
    "import json\n",
    "Crawler= CrawlerTechCo(2)\n",
    "Crawler.crawl()\n",
    "articles = Crawler.get_articles()\n",
    "\n",
    "f = open('data/testTechCo.json','w')\n",
    "json.dump(articles,f,indent=2)\n",
    "f.close()"
   ]
  },
  {
   "cell_type": "code",
   "execution_count": 6,
   "metadata": {
    "collapsed": true
   },
   "outputs": [],
   "source": [
    "import json\n",
    "f = open('data/testTechCo.json','w')\n",
    "json.dump(articles,f,indent=2)\n",
    "f.close()"
   ]
  },
  {
   "cell_type": "code",
   "execution_count": null,
   "metadata": {
    "collapsed": true
   },
   "outputs": [],
   "source": []
  }
 ],
 "metadata": {
  "kernelspec": {
   "display_name": "Python 3",
   "language": "python",
   "name": "python3"
  },
  "language_info": {
   "codemirror_mode": {
    "name": "ipython",
    "version": 3
   },
   "file_extension": ".py",
   "mimetype": "text/x-python",
   "name": "python",
   "nbconvert_exporter": "python",
   "pygments_lexer": "ipython3",
   "version": "3.6.1"
  }
 },
 "nbformat": 4,
 "nbformat_minor": 2
}
