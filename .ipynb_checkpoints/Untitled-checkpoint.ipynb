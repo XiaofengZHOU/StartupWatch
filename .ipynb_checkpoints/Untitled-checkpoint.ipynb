{
 "cells": [
  {
   "cell_type": "code",
   "execution_count": 1,
   "metadata": {},
   "outputs": [
    {
     "name": "stdout",
     "output_type": "stream",
     "text": [
      "Techcrunch 151\n",
      "RobotReport 17\n",
      "TechWorld 65\n",
      "Mashable 60\n",
      "Entrepreneur 151\n",
      "StartupDaily 268\n",
      "VentureBurn 215\n",
      "EUStartups 151\n",
      "StartupBeat 65\n",
      "StartupsUK 30\n",
      "TechInsider 94\n",
      "Geekwire 142\n",
      "Venturebeat 80\n",
      "TechCo 563\n"
     ]
    }
   ],
   "source": [
    "import json\n",
    "f=open('data/data.json','r')\n",
    "articles = json.load(f)    \n",
    "f.close()\n",
    "keys = articles.keys()\n",
    "for key in keys:  \n",
    "    print(key,len(articles[key]))"
   ]
  },
  {
   "cell_type": "code",
   "execution_count": null,
   "metadata": {
    "collapsed": true
   },
   "outputs": [],
   "source": []
  }
 ],
 "metadata": {
  "kernelspec": {
   "display_name": "Python 3",
   "language": "python",
   "name": "python3"
  },
  "language_info": {
   "codemirror_mode": {
    "name": "ipython",
    "version": 3
   },
   "file_extension": ".py",
   "mimetype": "text/x-python",
   "name": "python",
   "nbconvert_exporter": "python",
   "pygments_lexer": "ipython3",
   "version": "3.5.3"
  }
 },
 "nbformat": 4,
 "nbformat_minor": 2
}
