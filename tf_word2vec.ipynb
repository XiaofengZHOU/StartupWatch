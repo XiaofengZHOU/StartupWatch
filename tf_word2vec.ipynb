{
 "cells": [
  {
   "cell_type": "code",
   "execution_count": 1,
   "metadata": {},
   "outputs": [],
   "source": [
    "from __future__ import print_function\n",
    "import collections\n",
    "import math\n",
    "import numpy as np\n",
    "import os\n",
    "import random\n",
    "import tensorflow as tf\n",
    "import zipfile\n",
    "from matplotlib import pylab\n",
    "from six.moves import range\n",
    "from six.moves.urllib.request import urlretrieve\n",
    "from sklearn.manifold import TSNE"
   ]
  },
  {
   "cell_type": "code",
   "execution_count": 2,
   "metadata": {},
   "outputs": [
    {
     "name": "stdout",
     "output_type": "stream",
     "text": [
      "Found and verified text8.zip\n"
     ]
    }
   ],
   "source": [
    "url = 'http://mattmahoney.net/dc/'\n",
    "\n",
    "def maybe_download(filename, expected_bytes):\n",
    "  \"\"\"Download a file if not present, and make sure it's the right size.\"\"\"\n",
    "  if not os.path.exists(filename):\n",
    "    filename, _ = urlretrieve(url + filename, filename)\n",
    "  statinfo = os.stat(filename)\n",
    "  if statinfo.st_size == expected_bytes:\n",
    "    print('Found and verified %s' % filename)\n",
    "  else:\n",
    "    print(statinfo.st_size)\n",
    "    raise Exception(\n",
    "      'Failed to verify ' + filename + '. Can you get to it with a browser?')\n",
    "  return filename\n",
    "\n",
    "filename = maybe_download('text8.zip', 31344016)"
   ]
  },
  {
   "cell_type": "code",
   "execution_count": 3,
   "metadata": {},
   "outputs": [
    {
     "name": "stdout",
     "output_type": "stream",
     "text": [
      "Data size 17005207\n"
     ]
    }
   ],
   "source": [
    "def read_data(filename):\n",
    "  \"\"\"Extract the first file enclosed in a zip file as a list of words\"\"\"\n",
    "  with zipfile.ZipFile(filename) as f:\n",
    "    data = tf.compat.as_str(f.read(f.namelist()[0])).split()\n",
    "  return data\n",
    "  \n",
    "words = read_data(filename)\n",
    "print('Data size %d' % len(words))"
   ]
  },
  {
   "cell_type": "code",
   "execution_count": 10,
   "metadata": {},
   "outputs": [],
   "source": [
    "import json\n",
    "\n",
    "f = open('data/data.json','r')\n",
    "sites = json.load(f)\n",
    "f.close()\n",
    "\n",
    "text = ''\n",
    "for key in sites.keys():\n",
    "    for article in sites[key]:\n",
    "        text = text + article[\"content\"]\n",
    "\n",
    "         "
   ]
  },
  {
   "cell_type": "code",
   "execution_count": 31,
   "metadata": {},
   "outputs": [
    {
     "data": {
      "text/plain": [
       "'Ryan James (left) and Mark Laughery (right) sit in their office space at the UW CoMotion Labs. The two started Pear Med last winter as part of their UW Software Entrepreneurship class and recently entered into negotiations with Seattle Children\\'s Hospital to develop their virtual reality software for clinical use. (Photo by Timothy Kenney)\\n A medical diagnosis can be one of the most terrifying and confusing days of a patient\\'s life. Doctors often struggle to fully explain a person\\'s illness to them because internal structures, like a tumor, can be hard to visualize. Soon, doctors could have a new tool that helps remove some of the confusion from a diagnosis: virtual and augmented reality. University of Washington startup Pear Med is taking advantage of that tech with VR and AR software that compiles medical scans into an interactive 3D model. The startup is currently negotiating a partnership with Seattle Children\\'s Hospital to further develop their technology, which could revolutionize the way doctors communicate with their patients and help surgeons prepare for complex procedures.  One of our biggest challenges is being able to separate ourselves from that hype and show this can actually provide long-term value to doctors and patients. Co-founders Ryan James and Mark Laughery started Pear Med during their UW software entrepreneurship class in winter of 2016 and have since moved the startup to CoMotion Labs, the university\\'s virtual reality and augmented reality incubator.  The two combined James\\' health informatics background with Laughery\\'s design experience to make medical data easier to visualize for patients, doctors and medical students. \"We\\'re still trying to find our niche, so that\\'s one of the reasons we\\'re so excited about this Seattle Children\\'s partnership because they really want to help us understand exactly how this can be used in a hospital,\" James said. Pear Med\\'s software, called Bosc, stitches together 2D images from a patient\\'s MRI or CT scan to create a virtual 3D model unique to their anatomy. Using the AR HoloLens or VR Oculus Rift, users can see a color-coded representation of a patient\\'s bones, organs, and nerves. The software is especially useful to help clinicians visualize the shape and structure of a growth or tumor. Although various medical institutions have expressed interest in Bosc, implementing this technology into a doctor\\'s daily clinical workflow will be no small undertaking. VR and AR headsets are still in their early stages of development and are prohibitively expensive for some institutions to use on a large scale.   \"I think there\\'s a lot of hype around VR and AR, so I think one of our biggest challenges is being able to separate ourselves from that hype and show this can actually provide long-term value to doctors and patients,\" Laughery said. The UW Center for Multidimensional Medicine (CMM) has provided them with the clinical connections to rise to that challenge. The UC Irvine Department of Urology was the first institution to partner with Pear Med to see how the VR software could improve surgical training and planning for procedures such as kidney stone removal. In November of last year, the CMM connected Pear Med with a very unusual case at British Columbia Children\\'s Hospital. In a 1-year-old patient born with only one kidney, radiologists discovered a non-cancerous growth called a lipoma surrounding the base of her spinal cord. Administrators at the CMM and NIH thought the Bosc technology might help the parents understand their daughter\\'s illness and aid her surgeon in planning for a partial removal. The growth was intricately intertwined around her nerves, making it difficult to operate on without causing further neurological damage. James and Laughery drove to BC Children\\'s last November to show the family and their surgical team a virtual model of the child\\'s lipoma. Interacting with a 3D model of the growth helped her parents understand the problem much better than flat MRI images, James said. James said the child\\'s father described himself as \"a pit bull dad,\" who would \"do whatever he has to do to understand the problem and help in any way he can.\"  We open sourced the Pear Interaction Engine on GitHub as our kind of thank you to everyone in the software community.Over the past year, much of Pear Med\\'s funding has come directly from James\\' and Laughery\\'s own pockets, so the Seattle Children\\'s partnership will be an important source of new capital. In the past, they have received grants and awards for their work, such as $2,500 for an innovation award from the UW Business Plan Competition and $10,000 in hardware donated by UW Medicine.  Since James is still a Ph.D. student and therefore technically a UW employee, UW partially owns the intellectual property of all Bosc code. Any licensing agreement with Seattle Children\\'s will involve royalty payments to both Pear Med and UW. Once James finishes his doctorate, Pear Med will have exclusive ownership over the intellectual property of any new code they write for the software. James and Laughery relied heavily on open source software, such as NodeJS, to develop Bosc, so they felt compelled to share what they\\'d learned over the last year for free on a popular code sharing website called GitHub.  \"We open sourced the Pear Interaction Engine on GitHub as our kind of thank you to everyone in the software community,\" James said. \"We\\'ve learned a lot from the physicians that we\\'ve worked with about how they interact in VR and AR, the bad ways to do it and the ways that really help them.\" It could take years before Pear Med is able to fully integrate their technology into a hospital\\'s daily workflow, but James and Laughery believe Seattle Children\\'s will be the perfect environment to test their products.  Seattle has become one of the most important top tech hubs in the world, with an all-star lineup of homegrown companies and massive offices for out-of-towners looking to get their hands on the region\\'s deep roster of tech talent. But the city that spawned Microsoft, Amazon, Expedia, F5 and Zillow still comes up short in funding sources for early stage companies, with a lack of options for local startups to get off the ground. Andrew Dumont and Cameron Borumand want to change that. In February they began raising money for a new venture capital fund focused on early stage investments called Curious Capital. The fund is based in Seattle, but it wants to invest in startups throughout the Pacific Northwest. Curious Capital has already cut a couple small checks, and the fund is actively investing. They declined to say what companies they\\'ve invested in, and did not disclose the target size of the new fund. But the arrival of a new funding source in Seattle is good news for those who\\'ve argued that the Northwest -- despite its amazing array of technologists and world-class companies -- still falls short when it comes to bankrolling the next-generation of companies. The Curious Capital co-founders both hail from Washington state, and recently returned to Seattle from stints in New York and San Francisco. Dumont\\'s mother fell ill, and that brought him back to Seattle earlier this year, though he had always intended to return some day. Borumand is a born and raised Pacific Northwesterner, who comes from a Microsoft and Boeing family. He felt the pull of home and wanted to get involved in Seattle\\'s booming tech scene. The Seattle region has long been critiqued for its general lack of investors, both early-stage angel investors and later-stage venture capitalists. Dumont and Borumand have experienced what they say are stronger funding networks in New York and San Francisco with more options to choose from. And while there are many angel investors who got rich at places like Microsoft or Amazon and now invest as a hobby, Dumont said that the Pacific Northwest needs more options for early stage startups. \"For an ecosystem to be healthy from a fundraising standpoint, you need more active funds, more active investors supporting it,\" says Dumont, adding that they plan to invest across a wide array of sectors, from consumer-oriented companies to business-to-business software. The partners likely will stay away from up-and-coming biotech startups. Dumont has founded and worked for startups in Seattle, including Moz, where he was business development director. He eventually made his way to New York City, where he worked as an entrepreneur in residence at Betaworks, a startup studio similar in concept to Seattle\\'s Pioneer Square Labs. Dumont went on to become chief marketing officer at Bitly, a Betaworks spinoff company. Borumand brings the financial expertise. He is a former investment banker for Vaquero Capital in San Francisco, where he worked on later-stage financing for companies. One thing you won\\'t see in these descriptions, a long track record of raising funds. \"We are kind of bootstrapping a venture fund, which is completely illogical; it\\'s pretty stupid in a lot of ways,\" Dumont said. \"But we really believe in what we are doing, so that\\'s why we are doing this.\" That means raising capital is among the biggest challenges. To overcome this, Dumont and Borumand are starting small, and pitching their expertise as a benefit. They aren\\'t taking a salary, nor have they attached any fees to the fund. In addition to funding, Curious Capital wants to be hands on with companies it invests in, helping them with growth plans and strategies to bring their products to market. Curious Capital isn\\'t the only company to come forward to fill the investor void in Seattle. Last month, GeekWire reported on a new fund called Flying Fish Venture Partners. Founded by Seattle angel investors Heather Redman, Geoff Harris, and Frank Chang, Flying Fish is focused on helping early-stage startups in the Pacific Northwest get through their Series A round of funding and scale to the next level. Dumont said he knows his firm won\\'t entirely fix funding issues i'"
      ]
     },
     "execution_count": 31,
     "metadata": {},
     "output_type": "execute_result"
    }
   ],
   "source": [
    "str1 = text[0:10000]\n",
    "str1"
   ]
  },
  {
   "cell_type": "code",
   "execution_count": 35,
   "metadata": {},
   "outputs": [
    {
     "data": {
      "text/plain": [
       "'Ryan James (left) and Mark Laughery (right) sit in their office space at the UW CoMotion Labs. The two started Pear Med last winter as part of their UW Software Entrepreneurship class and recently entered into negotiations with Seattle Children\\'s Hospital to develop their virtual reality software for clinical use. (Photo by Timothy Kenney)\\n A medical diagnosis can be one of the most terrifying and confusing days of a patient\\'s life. Doctors often struggle to fully explain a person\\'s illness to them because internal structures, like a tumor, can be hard to visualize. Soon, doctors could have a new tool that helps remove some of the confusion from a diagnosis: virtual and augmented reality. University of Washington startup Pear Med is taking advantage of that tech with VR and AR software that compiles medical scans into an interactive 3D model. The startup is currently negotiating a partnership with Seattle Children\\'s Hospital to further develop their technology, which could revolutionize the way doctors communicate with their patients and help surgeons prepare for complex procedures.  One of our biggest challenges is being able to separate ourselves from that hype and show this can actually provide long-term value to doctors and patients. Co-founders Ryan James and Mark Laughery started Pear Med during their UW software entrepreneurship class in winter of 2016 and have since moved the startup to CoMotion Labs, the university\\'s virtual reality and augmented reality incubator.  The two combined James\\' health informatics background with Laughery\\'s design experience to make medical data easier to visualize for patients, doctors and medical students. \"We\\'re still trying to find our niche, so that\\'s one of the reasons we\\'re so excited about this Seattle Children\\'s partnership because they really want to help us understand exactly how this can be used in a hospital,\" James said. Pear Med\\'s software, called Bosc, stitches together 2D images from a patient\\'s MRI or CT scan to create a virtual 3D model unique to their anatomy. Using the AR HoloLens or VR Oculus Rift, users can see a color-coded representation of a patient\\'s bones, organs, and nerves. The software is especially useful to help clinicians visualize the shape and structure of a growth or tumor. Although various medical institutions have expressed interest in Bosc, implementing this technology into a doctor\\'s daily clinical workflow will be no small undertaking. VR and AR headsets are still in their early stages of development and are prohibitively expensive for some institutions to use on a large scale.   \"I think there\\'s a lot of hype around VR and AR, so I think one of our biggest challenges is being able to separate ourselves from that hype and show this can actually provide long-term value to doctors and patients,\" Laughery said. The UW Center for Multidimensional Medicine (CMM) has provided them with the clinical connections to rise to that challenge. The UC Irvine Department of Urology was the first institution to partner with Pear Med to see how the VR software could improve surgical training and planning for procedures such as kidney stone removal. In November of last year, the CMM connected Pear Med with a very unusual case at British Columbia Children\\'s Hospital. In a 1-year-old patient born with only one kidney, radiologists discovered a non-cancerous growth called a lipoma surrounding the base of her spinal cord. Administrators at the CMM and NIH thought the Bosc technology might help the parents understand their daughter\\'s illness and aid her surgeon in planning for a partial removal. The growth was intricately intertwined around her nerves, making it difficult to operate on without causing further neurological damage. James and Laughery drove to BC Children\\'s last November to show the family and their surgical team a virtual model of the child\\'s lipoma. Interacting with a 3D model of the growth helped her parents understand the problem much better than flat MRI images, James said. James said the child\\'s father described himself as \"a pit bull dad,\" who would \"do whatever he has to do to understand the problem and help in any way he can.\"  We open sourced the Pear Interaction Engine on GitHub as our kind of thank you to everyone in the software community.Over the past year, much of Pear Med\\'s funding has come directly from James\\' and Laughery\\'s own pockets, so the Seattle Children\\'s partnership will be an important source of new capital. In the past, they have received grants and awards for their work, such as $2,500 for an innovation award from the UW Business Plan Competition and $10,000 in hardware donated by UW Medicine.  Since James is still a Ph.D. student and therefore technically a UW employee, UW partially owns the intellectual property of all Bosc code. Any licensing agreement with Seattle Children\\'s will involve royalty payments to both Pear Med and UW. Once James finishes his doctorate, Pear Med will have exclusive ownership over the intellectual property of any new code they write for the software. James and Laughery relied heavily on open source software, such as NodeJS, to develop Bosc, so they felt compelled to share what they\\'d learned over the last year for free on a popular code sharing website called GitHub.  \"We open sourced the Pear Interaction Engine on GitHub as our kind of thank you to everyone in the software community,\" James said. \"We\\'ve learned a lot from the physicians that we\\'ve worked with about how they interact in VR and AR, the bad ways to do it and the ways that really help them.\" It could take years before Pear Med is able to fully integrate their technology into a hospital\\'s daily workflow, but James and Laughery believe Seattle Children\\'s will be the perfect environment to test their products.  Seattle has become one of the most important top tech hubs in the world, with an all-star lineup of homegrown companies and massive offices for out-of-towners looking to get their hands on the region\\'s deep roster of tech talent. But the city that spawned Microsoft, Amazon, Expedia, F5 and Zillow still comes up short in funding sources for early stage companies, with a lack of options for local startups to get off the ground. Andrew Dumont and Cameron Borumand want to change that. In February they began raising money for a new venture capital fund focused on early stage investments called Curious Capital. The fund is based in Seattle, but it wants to invest in startups throughout the Pacific Northwest. Curious Capital has already cut a couple small checks, and the fund is actively investing. They declined to say what companies they\\'ve invested in, and did not disclose the target size of the new fund. But the arrival of a new funding source in Seattle is good news for those who\\'ve argued that the Northwest -- despite its amazing array of technologists and world-class companies -- still falls short when it comes to bankrolling the next-generation of companies. The Curious Capital co-founders both hail from Washington state, and recently returned to Seattle from stints in New York and San Francisco. Dumont\\'s mother fell ill, and that brought him back to Seattle earlier this year, though he had always intended to return some day. Borumand is a born and raised Pacific Northwesterner, who comes from a Microsoft and Boeing family. He felt the pull of home and wanted to get involved in Seattle\\'s booming tech scene. The Seattle region has long been critiqued for its general lack of investors, both early-stage angel investors and later-stage venture capitalists. Dumont and Borumand have experienced what they say are stronger funding networks in New York and San Francisco with more options to choose from. And while there are many angel investors who got rich at places like Microsoft or Amazon and now invest as a hobby, Dumont said that the Pacific Northwest needs more options for early stage startups. \"For an ecosystem to be healthy from a fundraising standpoint, you need more active funds, more active investors supporting it,\" says Dumont, adding that they plan to invest across a wide array of sectors, from consumer-oriented companies to business-to-business software. The partners likely will stay away from up-and-coming biotech startups. Dumont has founded and worked for startups in Seattle, including Moz, where he was business development director. He eventually made his way to New York City, where he worked as an entrepreneur in residence at Betaworks, a startup studio similar in concept to Seattle\\'s Pioneer Square Labs. Dumont went on to become chief marketing officer at Bitly, a Betaworks spinoff company. Borumand brings the financial expertise. He is a former investment banker for Vaquero Capital in San Francisco, where he worked on later-stage financing for companies. One thing you won\\'t see in these descriptions, a long track record of raising funds. \"We are kind of bootstrapping a venture fund, which is completely illogical; it\\'s pretty stupid in a lot of ways,\" Dumont said. \"But we really believe in what we are doing, so that\\'s why we are doing this.\" That means raising capital is among the biggest challenges. To overcome this, Dumont and Borumand are starting small, and pitching their expertise as a benefit. They aren\\'t taking a salary, nor have they attached any fees to the fund. In addition to funding, Curious Capital wants to be hands on with companies it invests in, helping them with growth plans and strategies to bring their products to market. Curious Capital isn\\'t the only company to come forward to fill the investor void in Seattle. Last month, GeekWire reported on a new fund called Flying Fish Venture Partners. Founded by Seattle angel investors Heather Redman, Geoff Harris, and Frank Chang, Flying Fish is focused on helping early-stage startups in the Pacific Northwest get through their Series A round of funding and scale to the next level. Dumont said he knows his firm won\\'t entirely fix funding issues i'"
      ]
     },
     "execution_count": 35,
     "metadata": {},
     "output_type": "execute_result"
    }
   ],
   "source": [
    "str1.replace(\"\\\\\",\"'\")"
   ]
  },
  {
   "cell_type": "code",
   "execution_count": null,
   "metadata": {
    "collapsed": true
   },
   "outputs": [],
   "source": []
  }
 ],
 "metadata": {
  "kernelspec": {
   "display_name": "Python 3",
   "language": "python",
   "name": "python3"
  },
  "language_info": {
   "codemirror_mode": {
    "name": "ipython",
    "version": 3
   },
   "file_extension": ".py",
   "mimetype": "text/x-python",
   "name": "python",
   "nbconvert_exporter": "python",
   "pygments_lexer": "ipython3",
   "version": "3.5.3"
  }
 },
 "nbformat": 4,
 "nbformat_minor": 2
}
